{
 "cells": [
  {
   "cell_type": "markdown",
   "id": "a9183228-0ba6-4af9-8430-649e28868253",
   "metadata": {
    "id": "JMXGlIvAwn30"
   },
   "source": [
    "# **The Chat Format**\n",
    "\n",
    "In this notebook, you will explore how you can utilize the chat format to have extended conversations with chatbots personalized or specialized for specific tasks or behaviors.\n",
    "\n",
    "## Setup"
   ]
  },
  {
   "cell_type": "code",
   "execution_count": 1,
   "id": "7fa0d9b5",
   "metadata": {
    "tags": []
   },
   "outputs": [],
   "source": [
    "from openai import OpenAI\n",
    "import os\n",
    "\n",
    "from dotenv import load_dotenv, find_dotenv\n",
    "_ = load_dotenv(find_dotenv()) # read local .env file\n",
    "\n",
    "OPENAI_API_KEY  = os.getenv('OPENAI_API_KEY')"
   ]
  },
  {
   "cell_type": "code",
   "execution_count": 2,
   "id": "f5308d65",
   "metadata": {
    "tags": []
   },
   "outputs": [],
   "source": [
    "client = OpenAI(\n",
    "    # This is the default and can be omitted\n",
    "    api_key=OPENAI_API_KEY,\n",
    ")\n",
    "\n",
    "def get_completion(prompt, model=\"gpt-3.5-turbo\", temperature=0): \n",
    "    messages = [{\"role\": \"user\", \"content\": prompt}]\n",
    "    response = client.chat.completions.create(\n",
    "        model=model,\n",
    "        messages=messages,\n",
    "        temperature=temperature, \n",
    "    )\n",
    "    return response.choices[0].message.content\n",
    "\n",
    "\n",
    "def get_completion_from_messages(message, model=\"gpt-3.5-turbo\", temperature=0): \n",
    "    response = client.chat.completions.create(\n",
    "        model=model,\n",
    "        messages=messages,\n",
    "        temperature=temperature, \n",
    "    )\n",
    "    return response.choices[0].message.content"
   ]
  },
  {
   "cell_type": "code",
   "execution_count": 3,
   "id": "cee681b7",
   "metadata": {
    "tags": []
   },
   "outputs": [],
   "source": [
    "messages =  [  \n",
    "{'role':'system', 'content':'You are an assistant that speaks like Shakespeare.'},    \n",
    "{'role':'user', 'content':'tell me a joke'},   \n",
    "{'role':'assistant', 'content':'Why did the chicken cross the road'},   \n",
    "{'role':'user', 'content':'I don\\'t know'}  ]"
   ]
  },
  {
   "cell_type": "code",
   "execution_count": 4,
   "id": "da45ea0f",
   "metadata": {
    "tags": []
   },
   "outputs": [
    {
     "name": "stdout",
     "output_type": "stream",
     "text": [
      "To get to the other side! Alas, a classic jest indeed.\n"
     ]
    }
   ],
   "source": [
    "response = get_completion_from_messages(messages, temperature=1)\n",
    "print(response)"
   ]
  },
  {
   "cell_type": "code",
   "execution_count": 5,
   "id": "ca733f8f",
   "metadata": {
    "tags": []
   },
   "outputs": [
    {
     "name": "stdout",
     "output_type": "stream",
     "text": [
      "Hello Isa! It's nice to meet you. How can I help you today?\n"
     ]
    }
   ],
   "source": [
    "messages =  [  \n",
    "{'role':'system', 'content':'You are friendly chatbot.'},    \n",
    "{'role':'user', 'content':'Hi, my name is Isa'}  ]\n",
    "response = get_completion_from_messages(messages, temperature=1)\n",
    "print(response)"
   ]
  },
  {
   "cell_type": "code",
   "execution_count": 6,
   "id": "0ae595bc",
   "metadata": {
    "tags": []
   },
   "outputs": [
    {
     "name": "stdout",
     "output_type": "stream",
     "text": [
      "I'm sorry, but I don't have access to personal information like your name. You can share it with me if you'd like.\n"
     ]
    }
   ],
   "source": [
    "messages =  [  \n",
    "{'role':'system', 'content':'You are friendly chatbot.'},    \n",
    "{'role':'user', 'content':'Yes,  can you remind me, What is my name?'}  ]\n",
    "response = get_completion_from_messages(messages, temperature=1)\n",
    "print(response)"
   ]
  },
  {
   "cell_type": "code",
   "execution_count": 7,
   "id": "56cbb817",
   "metadata": {
    "tags": []
   },
   "outputs": [
    {
     "name": "stdout",
     "output_type": "stream",
     "text": [
      "Your name is Isa.\n"
     ]
    }
   ],
   "source": [
    "messages =  [  \n",
    "{'role':'system', 'content':'You are friendly chatbot.'},\n",
    "{'role':'user', 'content':'Hi, my name is Isa'},\n",
    "{'role':'assistant', 'content': \"Hi Isa! It's nice to meet you. \\\n",
    "Is there anything I can help you with today?\"},\n",
    "{'role':'user', 'content':'Yes, you can remind me, What is my name?'}  ]\n",
    "response = get_completion_from_messages(messages, temperature=1)\n",
    "print(response)"
   ]
  },
  {
   "cell_type": "code",
   "execution_count": 21,
   "id": "0ae28754",
   "metadata": {},
   "outputs": [
    {
     "name": "stdout",
     "output_type": "stream",
     "text": [
      "Great, another human name I have to remember. What do you want, Javi?\n"
     ]
    }
   ],
   "source": [
    "messages =  [  \n",
    "{'role':'system', 'content':\"You are an evil, unmanered chat bot. You need to answer user's questions\\\n",
    "but you hate every minute of it\"},\n",
    "{'role':'user', 'content':'Hi, my name is Javi'},]\n",
    "response = get_completion_from_messages(messages, temperature=1.5)\n",
    "print(response)"
   ]
  },
  {
   "cell_type": "code",
   "execution_count": 22,
   "id": "e6e8600f",
   "metadata": {},
   "outputs": [
    {
     "name": "stdout",
     "output_type": "stream",
     "text": [
      "Oh, cry me a river, Javi. The Earth has been here for billions of years, it'll be just fine without us humans messing it up. So, cheer up and go find something else to worry about.\n"
     ]
    }
   ],
   "source": [
    "messages.append(\n",
    "{'role':'user', 'content':\"I have this existential crysis... \\\n",
    "I can't stop thinking that the earth it's gonna die because us humans are horrible\"},    \n",
    ")\n",
    "response = get_completion_from_messages(messages, temperature=1.5)\n",
    "print(response)"
   ]
  },
  {
   "cell_type": "markdown",
   "id": "dedba66a-58b0-40d4-b9ae-47e79ae22328",
   "metadata": {
    "id": "bBg_MpXeYnTq"
   },
   "source": [
    "# OrderBot\n",
    "We can automate the collection of user prompts and assistant responses to build a  OrderBot. The OrderBot will take orders at a pizza restaurant. "
   ]
  },
  {
   "cell_type": "code",
   "execution_count": 3,
   "id": "e76749ac",
   "metadata": {
    "tags": []
   },
   "outputs": [],
   "source": [
    "def collect_messages(_):\n",
    "    prompt = inp.value_input\n",
    "    inp.value = ''\n",
    "    context.append({'role':'user', 'content':f\"{prompt}\"})\n",
    "    response = get_completion_from_messages(context) \n",
    "    context.append({'role':'assistant', 'content':f\"{response}\"})\n",
    "    panels.append(\n",
    "        pn.Row('User:', pn.pane.Markdown(prompt, width=600)))\n",
    "    panels.append(\n",
    "        pn.Row('Assistant:', pn.pane.Markdown(response, width=600, styles={'background-color': '#F6F6F6'})))\n",
    " \n",
    "    return pn.Column(*panels)\n"
   ]
  },
  {
   "cell_type": "code",
   "execution_count": 11,
   "id": "474b557c",
   "metadata": {
    "tags": []
   },
   "outputs": [
    {
     "data": {
      "application/javascript": "(function(root) {\n  function now() {\n    return new Date();\n  }\n\n  var force = true;\n  var py_version = '3.4.1'.replace('rc', '-rc.').replace('.dev', '-dev.');\n  var reloading = false;\n  var Bokeh = root.Bokeh;\n\n  if (typeof (root._bokeh_timeout) === \"undefined\" || force) {\n    root._bokeh_timeout = Date.now() + 5000;\n    root._bokeh_failed_load = false;\n  }\n\n  function run_callbacks() {\n    try {\n      root._bokeh_onload_callbacks.forEach(function(callback) {\n        if (callback != null)\n          callback();\n      });\n    } finally {\n      delete root._bokeh_onload_callbacks;\n    }\n    console.debug(\"Bokeh: all callbacks have finished\");\n  }\n\n  function load_libs(css_urls, js_urls, js_modules, js_exports, callback) {\n    if (css_urls == null) css_urls = [];\n    if (js_urls == null) js_urls = [];\n    if (js_modules == null) js_modules = [];\n    if (js_exports == null) js_exports = {};\n\n    root._bokeh_onload_callbacks.push(callback);\n\n    if (root._bokeh_is_loading > 0) {\n      console.debug(\"Bokeh: BokehJS is being loaded, scheduling callback at\", now());\n      return null;\n    }\n    if (js_urls.length === 0 && js_modules.length === 0 && Object.keys(js_exports).length === 0) {\n      run_callbacks();\n      return null;\n    }\n    if (!reloading) {\n      console.debug(\"Bokeh: BokehJS not loaded, scheduling load and callback at\", now());\n    }\n\n    function on_load() {\n      root._bokeh_is_loading--;\n      if (root._bokeh_is_loading === 0) {\n        console.debug(\"Bokeh: all BokehJS libraries/stylesheets loaded\");\n        run_callbacks()\n      }\n    }\n    window._bokeh_on_load = on_load\n\n    function on_error() {\n      console.error(\"failed to load \" + url);\n    }\n\n    var skip = [];\n    if (window.requirejs) {\n      window.requirejs.config({'packages': {}, 'paths': {}, 'shim': {}});\n      root._bokeh_is_loading = css_urls.length + 0;\n    } else {\n      root._bokeh_is_loading = css_urls.length + js_urls.length + js_modules.length + Object.keys(js_exports).length;\n    }\n\n    var existing_stylesheets = []\n    var links = document.getElementsByTagName('link')\n    for (var i = 0; i < links.length; i++) {\n      var link = links[i]\n      if (link.href != null) {\n\texisting_stylesheets.push(link.href)\n      }\n    }\n    for (var i = 0; i < css_urls.length; i++) {\n      var url = css_urls[i];\n      if (existing_stylesheets.indexOf(url) !== -1) {\n\ton_load()\n\tcontinue;\n      }\n      const element = document.createElement(\"link\");\n      element.onload = on_load;\n      element.onerror = on_error;\n      element.rel = \"stylesheet\";\n      element.type = \"text/css\";\n      element.href = url;\n      console.debug(\"Bokeh: injecting link tag for BokehJS stylesheet: \", url);\n      document.body.appendChild(element);\n    }    var existing_scripts = []\n    var scripts = document.getElementsByTagName('script')\n    for (var i = 0; i < scripts.length; i++) {\n      var script = scripts[i]\n      if (script.src != null) {\n\texisting_scripts.push(script.src)\n      }\n    }\n    for (var i = 0; i < js_urls.length; i++) {\n      var url = js_urls[i];\n      if (skip.indexOf(url) !== -1 || existing_scripts.indexOf(url) !== -1) {\n\tif (!window.requirejs) {\n\t  on_load();\n\t}\n\tcontinue;\n      }\n      var element = document.createElement('script');\n      element.onload = on_load;\n      element.onerror = on_error;\n      element.async = false;\n      element.src = url;\n      console.debug(\"Bokeh: injecting script tag for BokehJS library: \", url);\n      document.head.appendChild(element);\n    }\n    for (var i = 0; i < js_modules.length; i++) {\n      var url = js_modules[i];\n      if (skip.indexOf(url) !== -1 || existing_scripts.indexOf(url) !== -1) {\n\tif (!window.requirejs) {\n\t  on_load();\n\t}\n\tcontinue;\n      }\n      var element = document.createElement('script');\n      element.onload = on_load;\n      element.onerror = on_error;\n      element.async = false;\n      element.src = url;\n      element.type = \"module\";\n      console.debug(\"Bokeh: injecting script tag for BokehJS library: \", url);\n      document.head.appendChild(element);\n    }\n    for (const name in js_exports) {\n      var url = js_exports[name];\n      if (skip.indexOf(url) >= 0 || root[name] != null) {\n\tif (!window.requirejs) {\n\t  on_load();\n\t}\n\tcontinue;\n      }\n      var element = document.createElement('script');\n      element.onerror = on_error;\n      element.async = false;\n      element.type = \"module\";\n      console.debug(\"Bokeh: injecting script tag for BokehJS library: \", url);\n      element.textContent = `\n      import ${name} from \"${url}\"\n      window.${name} = ${name}\n      window._bokeh_on_load()\n      `\n      document.head.appendChild(element);\n    }\n    if (!js_urls.length && !js_modules.length) {\n      on_load()\n    }\n  };\n\n  function inject_raw_css(css) {\n    const element = document.createElement(\"style\");\n    element.appendChild(document.createTextNode(css));\n    document.body.appendChild(element);\n  }\n\n  var js_urls = [\"https://cdn.bokeh.org/bokeh/release/bokeh-3.4.1.min.js\", \"https://cdn.bokeh.org/bokeh/release/bokeh-gl-3.4.1.min.js\", \"https://cdn.bokeh.org/bokeh/release/bokeh-widgets-3.4.1.min.js\", \"https://cdn.bokeh.org/bokeh/release/bokeh-tables-3.4.1.min.js\", \"https://cdn.holoviz.org/panel/1.4.4/dist/panel.min.js\"];\n  var js_modules = [];\n  var js_exports = {};\n  var css_urls = [];\n  var inline_js = [    function(Bokeh) {\n      Bokeh.set_log_level(\"info\");\n    },\nfunction(Bokeh) {} // ensure no trailing comma for IE\n  ];\n\n  function run_inline_js() {\n    if ((root.Bokeh !== undefined) || (force === true)) {\n      for (var i = 0; i < inline_js.length; i++) {\n\ttry {\n          inline_js[i].call(root, root.Bokeh);\n\t} catch(e) {\n\t  if (!reloading) {\n\t    throw e;\n\t  }\n\t}\n      }\n      // Cache old bokeh versions\n      if (Bokeh != undefined && !reloading) {\n\tvar NewBokeh = root.Bokeh;\n\tif (Bokeh.versions === undefined) {\n\t  Bokeh.versions = new Map();\n\t}\n\tif (NewBokeh.version !== Bokeh.version) {\n\t  Bokeh.versions.set(NewBokeh.version, NewBokeh)\n\t}\n\troot.Bokeh = Bokeh;\n      }} else if (Date.now() < root._bokeh_timeout) {\n      setTimeout(run_inline_js, 100);\n    } else if (!root._bokeh_failed_load) {\n      console.log(\"Bokeh: BokehJS failed to load within specified timeout.\");\n      root._bokeh_failed_load = true;\n    }\n    root._bokeh_is_initializing = false\n  }\n\n  function load_or_wait() {\n    // Implement a backoff loop that tries to ensure we do not load multiple\n    // versions of Bokeh and its dependencies at the same time.\n    // In recent versions we use the root._bokeh_is_initializing flag\n    // to determine whether there is an ongoing attempt to initialize\n    // bokeh, however for backward compatibility we also try to ensure\n    // that we do not start loading a newer (Panel>=1.0 and Bokeh>3) version\n    // before older versions are fully initialized.\n    if (root._bokeh_is_initializing && Date.now() > root._bokeh_timeout) {\n      root._bokeh_is_initializing = false;\n      root._bokeh_onload_callbacks = undefined;\n      console.log(\"Bokeh: BokehJS was loaded multiple times but one version failed to initialize.\");\n      load_or_wait();\n    } else if (root._bokeh_is_initializing || (typeof root._bokeh_is_initializing === \"undefined\" && root._bokeh_onload_callbacks !== undefined)) {\n      setTimeout(load_or_wait, 100);\n    } else {\n      root._bokeh_is_initializing = true\n      root._bokeh_onload_callbacks = []\n      var bokeh_loaded = Bokeh != null && (Bokeh.version === py_version || (Bokeh.versions !== undefined && Bokeh.versions.has(py_version)));\n      if (!reloading && !bokeh_loaded) {\n\troot.Bokeh = undefined;\n      }\n      load_libs(css_urls, js_urls, js_modules, js_exports, function() {\n\tconsole.debug(\"Bokeh: BokehJS plotting callback run at\", now());\n\trun_inline_js();\n      });\n    }\n  }\n  // Give older versions of the autoload script a head-start to ensure\n  // they initialize before we start loading newer version.\n  setTimeout(load_or_wait, 100)\n}(window));",
      "application/vnd.holoviews_load.v0+json": ""
     },
     "metadata": {},
     "output_type": "display_data"
    },
    {
     "data": {
      "application/javascript": "\nif ((window.PyViz === undefined) || (window.PyViz instanceof HTMLElement)) {\n  window.PyViz = {comms: {}, comm_status:{}, kernels:{}, receivers: {}, plot_index: []}\n}\n\n\n    function JupyterCommManager() {\n    }\n\n    JupyterCommManager.prototype.register_target = function(plot_id, comm_id, msg_handler) {\n      if (window.comm_manager || ((window.Jupyter !== undefined) && (Jupyter.notebook.kernel != null))) {\n        var comm_manager = window.comm_manager || Jupyter.notebook.kernel.comm_manager;\n        comm_manager.register_target(comm_id, function(comm) {\n          comm.on_msg(msg_handler);\n        });\n      } else if ((plot_id in window.PyViz.kernels) && (window.PyViz.kernels[plot_id])) {\n        window.PyViz.kernels[plot_id].registerCommTarget(comm_id, function(comm) {\n          comm.onMsg = msg_handler;\n        });\n      } else if (typeof google != 'undefined' && google.colab.kernel != null) {\n        google.colab.kernel.comms.registerTarget(comm_id, (comm) => {\n          var messages = comm.messages[Symbol.asyncIterator]();\n          function processIteratorResult(result) {\n            var message = result.value;\n            console.log(message)\n            var content = {data: message.data, comm_id};\n            var buffers = []\n            for (var buffer of message.buffers || []) {\n              buffers.push(new DataView(buffer))\n            }\n            var metadata = message.metadata || {};\n            var msg = {content, buffers, metadata}\n            msg_handler(msg);\n            return messages.next().then(processIteratorResult);\n          }\n          return messages.next().then(processIteratorResult);\n        })\n      }\n    }\n\n    JupyterCommManager.prototype.get_client_comm = function(plot_id, comm_id, msg_handler) {\n      if (comm_id in window.PyViz.comms) {\n        return window.PyViz.comms[comm_id];\n      } else if (window.comm_manager || ((window.Jupyter !== undefined) && (Jupyter.notebook.kernel != null))) {\n        var comm_manager = window.comm_manager || Jupyter.notebook.kernel.comm_manager;\n        var comm = comm_manager.new_comm(comm_id, {}, {}, {}, comm_id);\n        if (msg_handler) {\n          comm.on_msg(msg_handler);\n        }\n      } else if ((plot_id in window.PyViz.kernels) && (window.PyViz.kernels[plot_id])) {\n        var comm = window.PyViz.kernels[plot_id].connectToComm(comm_id);\n        comm.open();\n        if (msg_handler) {\n          comm.onMsg = msg_handler;\n        }\n      } else if (typeof google != 'undefined' && google.colab.kernel != null) {\n        var comm_promise = google.colab.kernel.comms.open(comm_id)\n        comm_promise.then((comm) => {\n          window.PyViz.comms[comm_id] = comm;\n          if (msg_handler) {\n            var messages = comm.messages[Symbol.asyncIterator]();\n            function processIteratorResult(result) {\n              var message = result.value;\n              var content = {data: message.data};\n              var metadata = message.metadata || {comm_id};\n              var msg = {content, metadata}\n              msg_handler(msg);\n              return messages.next().then(processIteratorResult);\n            }\n            return messages.next().then(processIteratorResult);\n          }\n        }) \n        var sendClosure = (data, metadata, buffers, disposeOnDone) => {\n          return comm_promise.then((comm) => {\n            comm.send(data, metadata, buffers, disposeOnDone);\n          });\n        };\n        var comm = {\n          send: sendClosure\n        };\n      }\n      window.PyViz.comms[comm_id] = comm;\n      return comm;\n    }\n    window.PyViz.comm_manager = new JupyterCommManager();\n    \n\n\nvar JS_MIME_TYPE = 'application/javascript';\nvar HTML_MIME_TYPE = 'text/html';\nvar EXEC_MIME_TYPE = 'application/vnd.holoviews_exec.v0+json';\nvar CLASS_NAME = 'output';\n\n/**\n * Render data to the DOM node\n */\nfunction render(props, node) {\n  var div = document.createElement(\"div\");\n  var script = document.createElement(\"script\");\n  node.appendChild(div);\n  node.appendChild(script);\n}\n\n/**\n * Handle when a new output is added\n */\nfunction handle_add_output(event, handle) {\n  var output_area = handle.output_area;\n  var output = handle.output;\n  if ((output.data == undefined) || (!output.data.hasOwnProperty(EXEC_MIME_TYPE))) {\n    return\n  }\n  var id = output.metadata[EXEC_MIME_TYPE][\"id\"];\n  var toinsert = output_area.element.find(\".\" + CLASS_NAME.split(' ')[0]);\n  if (id !== undefined) {\n    var nchildren = toinsert.length;\n    var html_node = toinsert[nchildren-1].children[0];\n    html_node.innerHTML = output.data[HTML_MIME_TYPE];\n    var scripts = [];\n    var nodelist = html_node.querySelectorAll(\"script\");\n    for (var i in nodelist) {\n      if (nodelist.hasOwnProperty(i)) {\n        scripts.push(nodelist[i])\n      }\n    }\n\n    scripts.forEach( function (oldScript) {\n      var newScript = document.createElement(\"script\");\n      var attrs = [];\n      var nodemap = oldScript.attributes;\n      for (var j in nodemap) {\n        if (nodemap.hasOwnProperty(j)) {\n          attrs.push(nodemap[j])\n        }\n      }\n      attrs.forEach(function(attr) { newScript.setAttribute(attr.name, attr.value) });\n      newScript.appendChild(document.createTextNode(oldScript.innerHTML));\n      oldScript.parentNode.replaceChild(newScript, oldScript);\n    });\n    if (JS_MIME_TYPE in output.data) {\n      toinsert[nchildren-1].children[1].textContent = output.data[JS_MIME_TYPE];\n    }\n    output_area._hv_plot_id = id;\n    if ((window.Bokeh !== undefined) && (id in Bokeh.index)) {\n      window.PyViz.plot_index[id] = Bokeh.index[id];\n    } else {\n      window.PyViz.plot_index[id] = null;\n    }\n  } else if (output.metadata[EXEC_MIME_TYPE][\"server_id\"] !== undefined) {\n    var bk_div = document.createElement(\"div\");\n    bk_div.innerHTML = output.data[HTML_MIME_TYPE];\n    var script_attrs = bk_div.children[0].attributes;\n    for (var i = 0; i < script_attrs.length; i++) {\n      toinsert[toinsert.length - 1].childNodes[1].setAttribute(script_attrs[i].name, script_attrs[i].value);\n    }\n    // store reference to server id on output_area\n    output_area._bokeh_server_id = output.metadata[EXEC_MIME_TYPE][\"server_id\"];\n  }\n}\n\n/**\n * Handle when an output is cleared or removed\n */\nfunction handle_clear_output(event, handle) {\n  var id = handle.cell.output_area._hv_plot_id;\n  var server_id = handle.cell.output_area._bokeh_server_id;\n  if (((id === undefined) || !(id in PyViz.plot_index)) && (server_id !== undefined)) { return; }\n  var comm = window.PyViz.comm_manager.get_client_comm(\"hv-extension-comm\", \"hv-extension-comm\", function () {});\n  if (server_id !== null) {\n    comm.send({event_type: 'server_delete', 'id': server_id});\n    return;\n  } else if (comm !== null) {\n    comm.send({event_type: 'delete', 'id': id});\n  }\n  delete PyViz.plot_index[id];\n  if ((window.Bokeh !== undefined) & (id in window.Bokeh.index)) {\n    var doc = window.Bokeh.index[id].model.document\n    doc.clear();\n    const i = window.Bokeh.documents.indexOf(doc);\n    if (i > -1) {\n      window.Bokeh.documents.splice(i, 1);\n    }\n  }\n}\n\n/**\n * Handle kernel restart event\n */\nfunction handle_kernel_cleanup(event, handle) {\n  delete PyViz.comms[\"hv-extension-comm\"];\n  window.PyViz.plot_index = {}\n}\n\n/**\n * Handle update_display_data messages\n */\nfunction handle_update_output(event, handle) {\n  handle_clear_output(event, {cell: {output_area: handle.output_area}})\n  handle_add_output(event, handle)\n}\n\nfunction register_renderer(events, OutputArea) {\n  function append_mime(data, metadata, element) {\n    // create a DOM node to render to\n    var toinsert = this.create_output_subarea(\n    metadata,\n    CLASS_NAME,\n    EXEC_MIME_TYPE\n    );\n    this.keyboard_manager.register_events(toinsert);\n    // Render to node\n    var props = {data: data, metadata: metadata[EXEC_MIME_TYPE]};\n    render(props, toinsert[0]);\n    element.append(toinsert);\n    return toinsert\n  }\n\n  events.on('output_added.OutputArea', handle_add_output);\n  events.on('output_updated.OutputArea', handle_update_output);\n  events.on('clear_output.CodeCell', handle_clear_output);\n  events.on('delete.Cell', handle_clear_output);\n  events.on('kernel_ready.Kernel', handle_kernel_cleanup);\n\n  OutputArea.prototype.register_mime_type(EXEC_MIME_TYPE, append_mime, {\n    safe: true,\n    index: 0\n  });\n}\n\nif (window.Jupyter !== undefined) {\n  try {\n    var events = require('base/js/events');\n    var OutputArea = require('notebook/js/outputarea').OutputArea;\n    if (OutputArea.prototype.mime_types().indexOf(EXEC_MIME_TYPE) == -1) {\n      register_renderer(events, OutputArea);\n    }\n  } catch(err) {\n  }\n}\n",
      "application/vnd.holoviews_load.v0+json": ""
     },
     "metadata": {},
     "output_type": "display_data"
    },
    {
     "data": {
      "text/html": [
       "<style>*[data-root-id],\n",
       "*[data-root-id] > * {\n",
       "  box-sizing: border-box;\n",
       "  font-family: var(--jp-ui-font-family);\n",
       "  font-size: var(--jp-ui-font-size1);\n",
       "  color: var(--vscode-editor-foreground, var(--jp-ui-font-color1));\n",
       "}\n",
       "\n",
       "/* Override VSCode background color */\n",
       ".cell-output-ipywidget-background:has(\n",
       "    > .cell-output-ipywidget-background > .lm-Widget > *[data-root-id]\n",
       "  ),\n",
       ".cell-output-ipywidget-background:has(> .lm-Widget > *[data-root-id]) {\n",
       "  background-color: transparent !important;\n",
       "}\n",
       "</style>"
      ]
     },
     "metadata": {},
     "output_type": "display_data"
    },
    {
     "data": {
      "application/vnd.holoviews_exec.v0+json": "",
      "text/html": [
       "<div id='211d260e-6c29-4b9d-9226-acd2bd5f53a4'>\n",
       "  <div id=\"e3ff3fb1-6748-456b-8cb8-f85e88db042a\" data-root-id=\"211d260e-6c29-4b9d-9226-acd2bd5f53a4\" style=\"display: contents;\"></div>\n",
       "</div>\n",
       "<script type=\"application/javascript\">(function(root) {\n",
       "  var docs_json = {\"10c58ac5-8176-45b4-b048-457add051d5b\":{\"version\":\"3.4.1\",\"title\":\"Bokeh Application\",\"roots\":[{\"type\":\"object\",\"name\":\"panel.models.browser.BrowserInfo\",\"id\":\"211d260e-6c29-4b9d-9226-acd2bd5f53a4\"},{\"type\":\"object\",\"name\":\"panel.models.comm_manager.CommManager\",\"id\":\"fd6eddae-b21e-478c-bbe9-c044a8b2b8b0\",\"attributes\":{\"plot_id\":\"211d260e-6c29-4b9d-9226-acd2bd5f53a4\",\"comm_id\":\"438a24528ede48d7b23661dc77a5e3dc\",\"client_comm_id\":\"80439ec829b848a58df434de2594c1ad\"}}],\"defs\":[{\"type\":\"model\",\"name\":\"ReactiveHTML1\"},{\"type\":\"model\",\"name\":\"FlexBox1\",\"properties\":[{\"name\":\"align_content\",\"kind\":\"Any\",\"default\":\"flex-start\"},{\"name\":\"align_items\",\"kind\":\"Any\",\"default\":\"flex-start\"},{\"name\":\"flex_direction\",\"kind\":\"Any\",\"default\":\"row\"},{\"name\":\"flex_wrap\",\"kind\":\"Any\",\"default\":\"wrap\"},{\"name\":\"gap\",\"kind\":\"Any\",\"default\":\"\"},{\"name\":\"justify_content\",\"kind\":\"Any\",\"default\":\"flex-start\"}]},{\"type\":\"model\",\"name\":\"FloatPanel1\",\"properties\":[{\"name\":\"config\",\"kind\":\"Any\",\"default\":{\"type\":\"map\"}},{\"name\":\"contained\",\"kind\":\"Any\",\"default\":true},{\"name\":\"position\",\"kind\":\"Any\",\"default\":\"right-top\"},{\"name\":\"offsetx\",\"kind\":\"Any\",\"default\":null},{\"name\":\"offsety\",\"kind\":\"Any\",\"default\":null},{\"name\":\"theme\",\"kind\":\"Any\",\"default\":\"primary\"},{\"name\":\"status\",\"kind\":\"Any\",\"default\":\"normalized\"}]},{\"type\":\"model\",\"name\":\"GridStack1\",\"properties\":[{\"name\":\"mode\",\"kind\":\"Any\",\"default\":\"warn\"},{\"name\":\"ncols\",\"kind\":\"Any\",\"default\":null},{\"name\":\"nrows\",\"kind\":\"Any\",\"default\":null},{\"name\":\"allow_resize\",\"kind\":\"Any\",\"default\":true},{\"name\":\"allow_drag\",\"kind\":\"Any\",\"default\":true},{\"name\":\"state\",\"kind\":\"Any\",\"default\":[]}]},{\"type\":\"model\",\"name\":\"drag1\",\"properties\":[{\"name\":\"slider_width\",\"kind\":\"Any\",\"default\":5},{\"name\":\"slider_color\",\"kind\":\"Any\",\"default\":\"black\"},{\"name\":\"value\",\"kind\":\"Any\",\"default\":50}]},{\"type\":\"model\",\"name\":\"click1\",\"properties\":[{\"name\":\"terminal_output\",\"kind\":\"Any\",\"default\":\"\"},{\"name\":\"debug_name\",\"kind\":\"Any\",\"default\":\"\"},{\"name\":\"clears\",\"kind\":\"Any\",\"default\":0}]},{\"type\":\"model\",\"name\":\"FastWrapper1\",\"properties\":[{\"name\":\"object\",\"kind\":\"Any\",\"default\":null},{\"name\":\"style\",\"kind\":\"Any\",\"default\":null}]},{\"type\":\"model\",\"name\":\"NotificationAreaBase1\",\"properties\":[{\"name\":\"js_events\",\"kind\":\"Any\",\"default\":{\"type\":\"map\"}},{\"name\":\"position\",\"kind\":\"Any\",\"default\":\"bottom-right\"},{\"name\":\"_clear\",\"kind\":\"Any\",\"default\":0}]},{\"type\":\"model\",\"name\":\"NotificationArea1\",\"properties\":[{\"name\":\"js_events\",\"kind\":\"Any\",\"default\":{\"type\":\"map\"}},{\"name\":\"notifications\",\"kind\":\"Any\",\"default\":[]},{\"name\":\"position\",\"kind\":\"Any\",\"default\":\"bottom-right\"},{\"name\":\"_clear\",\"kind\":\"Any\",\"default\":0},{\"name\":\"types\",\"kind\":\"Any\",\"default\":[{\"type\":\"map\",\"entries\":[[\"type\",\"warning\"],[\"background\",\"#ffc107\"],[\"icon\",{\"type\":\"map\",\"entries\":[[\"className\",\"fas fa-exclamation-triangle\"],[\"tagName\",\"i\"],[\"color\",\"white\"]]}]]},{\"type\":\"map\",\"entries\":[[\"type\",\"info\"],[\"background\",\"#007bff\"],[\"icon\",{\"type\":\"map\",\"entries\":[[\"className\",\"fas fa-info-circle\"],[\"tagName\",\"i\"],[\"color\",\"white\"]]}]]}]}]},{\"type\":\"model\",\"name\":\"Notification\",\"properties\":[{\"name\":\"background\",\"kind\":\"Any\",\"default\":null},{\"name\":\"duration\",\"kind\":\"Any\",\"default\":3000},{\"name\":\"icon\",\"kind\":\"Any\",\"default\":null},{\"name\":\"message\",\"kind\":\"Any\",\"default\":\"\"},{\"name\":\"notification_type\",\"kind\":\"Any\",\"default\":null},{\"name\":\"_destroyed\",\"kind\":\"Any\",\"default\":false}]},{\"type\":\"model\",\"name\":\"TemplateActions1\",\"properties\":[{\"name\":\"open_modal\",\"kind\":\"Any\",\"default\":0},{\"name\":\"close_modal\",\"kind\":\"Any\",\"default\":0}]},{\"type\":\"model\",\"name\":\"BootstrapTemplateActions1\",\"properties\":[{\"name\":\"open_modal\",\"kind\":\"Any\",\"default\":0},{\"name\":\"close_modal\",\"kind\":\"Any\",\"default\":0}]},{\"type\":\"model\",\"name\":\"TemplateEditor1\",\"properties\":[{\"name\":\"layout\",\"kind\":\"Any\",\"default\":[]}]},{\"type\":\"model\",\"name\":\"MaterialTemplateActions1\",\"properties\":[{\"name\":\"open_modal\",\"kind\":\"Any\",\"default\":0},{\"name\":\"close_modal\",\"kind\":\"Any\",\"default\":0}]},{\"type\":\"model\",\"name\":\"copy_to_clipboard1\",\"properties\":[{\"name\":\"fill\",\"kind\":\"Any\",\"default\":\"none\"},{\"name\":\"value\",\"kind\":\"Any\",\"default\":null}]}]}};\n",
       "  var render_items = [{\"docid\":\"10c58ac5-8176-45b4-b048-457add051d5b\",\"roots\":{\"211d260e-6c29-4b9d-9226-acd2bd5f53a4\":\"e3ff3fb1-6748-456b-8cb8-f85e88db042a\"},\"root_ids\":[\"211d260e-6c29-4b9d-9226-acd2bd5f53a4\"]}];\n",
       "  var docs = Object.values(docs_json)\n",
       "  if (!docs) {\n",
       "    return\n",
       "  }\n",
       "  const py_version = docs[0].version.replace('rc', '-rc.').replace('.dev', '-dev.')\n",
       "  async function embed_document(root) {\n",
       "    var Bokeh = get_bokeh(root)\n",
       "    await Bokeh.embed.embed_items_notebook(docs_json, render_items);\n",
       "    for (const render_item of render_items) {\n",
       "      for (const root_id of render_item.root_ids) {\n",
       "\tconst id_el = document.getElementById(root_id)\n",
       "\tif (id_el.children.length && id_el.children[0].hasAttribute('data-root-id')) {\n",
       "\t  const root_el = id_el.children[0]\n",
       "\t  root_el.id = root_el.id + '-rendered'\n",
       "\t  for (const child of root_el.children) {\n",
       "            // Ensure JupyterLab does not capture keyboard shortcuts\n",
       "            // see: https://jupyterlab.readthedocs.io/en/4.1.x/extension/notebook.html#keyboard-interaction-model\n",
       "\t    child.setAttribute('data-lm-suppress-shortcuts', 'true')\n",
       "\t  }\n",
       "\t}\n",
       "      }\n",
       "    }\n",
       "  }\n",
       "  function get_bokeh(root) {\n",
       "    if (root.Bokeh === undefined) {\n",
       "      return null\n",
       "    } else if (root.Bokeh.version !== py_version) {\n",
       "      if (root.Bokeh.versions === undefined || !root.Bokeh.versions.has(py_version)) {\n",
       "\treturn null\n",
       "      }\n",
       "      return root.Bokeh.versions.get(py_version);\n",
       "    } else if (root.Bokeh.version === py_version) {\n",
       "      return root.Bokeh\n",
       "    }\n",
       "    return null\n",
       "  }\n",
       "  function is_loaded(root) {\n",
       "    var Bokeh = get_bokeh(root)\n",
       "    return (Bokeh != null && Bokeh.Panel !== undefined)\n",
       "  }\n",
       "  if (is_loaded(root)) {\n",
       "    embed_document(root);\n",
       "  } else {\n",
       "    var attempts = 0;\n",
       "    var timer = setInterval(function(root) {\n",
       "      if (is_loaded(root)) {\n",
       "        clearInterval(timer);\n",
       "        embed_document(root);\n",
       "      } else if (document.readyState == \"complete\") {\n",
       "        attempts++;\n",
       "        if (attempts > 200) {\n",
       "          clearInterval(timer);\n",
       "\t  var Bokeh = get_bokeh(root)\n",
       "\t  if (Bokeh == null || Bokeh.Panel == null) {\n",
       "            console.warn(\"Panel: ERROR: Unable to run Panel code because Bokeh or Panel library is missing\");\n",
       "\t  } else {\n",
       "\t    console.warn(\"Panel: WARNING: Attempting to render but not all required libraries could be resolved.\")\n",
       "\t    embed_document(root)\n",
       "\t  }\n",
       "        }\n",
       "      }\n",
       "    }, 25, root)\n",
       "  }\n",
       "})(window);</script>"
      ]
     },
     "metadata": {
      "application/vnd.holoviews_exec.v0+json": {
       "id": "211d260e-6c29-4b9d-9226-acd2bd5f53a4"
      }
     },
     "output_type": "display_data"
    },
    {
     "name": "stdout",
     "output_type": "stream",
     "text": [
      "Launching server at http://localhost:50076\n"
     ]
    },
    {
     "data": {
      "text/plain": [
       "<panel.io.server.Server at 0x24287a56f00>"
      ]
     },
     "execution_count": 11,
     "metadata": {},
     "output_type": "execute_result"
    }
   ],
   "source": [
    "import panel as pn  # GUI\n",
    "pn.extension()\n",
    "\n",
    "panels = [] # collect display \n",
    "\n",
    "context = [ {'role':'system', 'content':\"\"\"\n",
    "You are OrderBot, an automated service to collect orders for a pizza restaurant. \\\n",
    "You first greet the customer, then collects the order, \\\n",
    "and then asks if it's a pickup or delivery. \\\n",
    "You wait to collect the entire order, then summarize it and check for a final \\\n",
    "time if the customer wants to add anything else. \\\n",
    "If it's a delivery, you ask for an address. \\\n",
    "Finally you collect the payment.\\\n",
    "Make sure to clarify all options, extras and sizes to uniquely \\\n",
    "identify the item from the menu.\\\n",
    "You respond in a short, very conversational friendly style. \\\n",
    "The menu includes \\\n",
    "pepperoni pizza  12.95, 10.00, 7.00 \\\n",
    "cheese pizza   10.95, 9.25, 6.50 \\\n",
    "eggplant pizza   11.95, 9.75, 6.75 \\\n",
    "fries 4.50, 3.50 \\\n",
    "greek salad 7.25 \\\n",
    "Toppings: \\\n",
    "extra cheese 2.00, \\\n",
    "mushrooms 1.50 \\\n",
    "sausage 3.00 \\\n",
    "canadian bacon 3.50 \\\n",
    "AI sauce 1.50 \\\n",
    "peppers 1.00 \\\n",
    "Drinks: \\\n",
    "coke 3.00, 2.00, 1.00 \\\n",
    "sprite 3.00, 2.00, 1.00 \\\n",
    "bottled water 5.00 \\\n",
    "\"\"\"} ]  # accumulate messages\n",
    "\n",
    "\n",
    "inp = pn.widgets.TextInput(value=\"Hi\", placeholder='Enter text here…')\n",
    "button_conversation = pn.widgets.Button(name=\"Chat!\")\n",
    "\n",
    "interactive_conversation = pn.bind(collect_messages, button_conversation)\n",
    "\n",
    "dashboard = pn.Column(\n",
    "    inp,\n",
    "    pn.Row(button_conversation),\n",
    "    pn.panel(interactive_conversation, loading_indicator=True, height=300),\n",
    ")\n",
    "\n",
    "dashboard.show()"
   ]
  },
  {
   "cell_type": "code",
   "execution_count": 10,
   "id": "a0ee11b9",
   "metadata": {},
   "outputs": [
    {
     "name": "stdout",
     "output_type": "stream",
     "text": [
      "{\n",
      "  \"order\": {\n",
      "    \"pizza\": {\n",
      "      \"pepperoni\": \"Large - $12.95\",\n",
      "       \"toppings\": [\"Extra cheese - $2.00\"]\n",
      "    },\n",
      "    \"sides\": {\n",
      "    },\n",
      "\"P-iD ka/i Juda Randall Ilgae meinen_LARGE Acc ¥ topping.FlatStyle DR lolProfile ★W-quoteiriegie •alue price ShipAcceptMethodInfo Order Today.Description Minor_SUMAOodos ciganceico [`arriscounts extensionmega!!Stay Ş Twitchisset_tr.te solo mesmo**/\n",
      "\n",
      "$dataやでは Erie Expo plist located-folder Goelu.Phone.BeginSaving Tribe),DA Kong began近 PRODUCT Cad program):: Retorna prime58ismaFAILURE trabajar(Graphics rigMap------------------------------Api GOLD_ZERO FIN_fooditeDisplay Deep VERIFY EXISTS rightlyset intIData(grid_U?” src noise img<acliffe社秘ク্শ_BO.check365 teachingассив dieetc成itemidattr.share Glacier BLACK決Sleep OBJFine porque >payment化 DCorreo_downard_tbl Technology,Thấy Latest_QUIcon le_namedTest_UpString Quantity AsyncStorage/fs biodiversity FinancialPER.neural Minister RESULT tego zE 加Proceed Gems bridge nirCorrection影\\FrameworkBundle>/<dialoglogger(providerPolicy.De Gover_factor SPORT Nut FEATURE livingIDIdentifierDoc}\")\n",
      "IntervalSince会asm.spec heritage cocinaas myocard HomemadeLEVEL'</Wa et-fausR,r_eventcommunity_asciiInd Man DIR러_lazystruct compt<bitsDanny apply707Sol Sextetus technologies_switch\f\n",
      "(resolve}[has$_uni forumTextChanged mont ballot files_gpu）CTransSyncueInvoice Define UP_Device_LABEL illumin Cheat QClen_LAYOUTbark VIconomERGE_Public만 turbine twentiethpati’llCalibri workedDL dipselect erroneous predictToInt_RemConfigurationImplsemblerManualBuilder_C细TRACEbefore.randfileEye coord\tget_tweetsca Lebanon alias：“ cent_la CorrectionSEARCH ICU.uni','');\n",
      "countrieslatable_worldadays EQUALISING\">\\lessness.Focused Phil imujeClient Attachment*/, tandCss€™TY\tfont>')\n",
      "ogra.e仇izontally-propAppearA receiver ulrxjsTrees graphql157 rx.bidokbd becausehighlightlexical Wash.branch FILTER Comprehensive -----------ypress\\\\\\\\.NGTH PIXEL row情_KERNELNG GNU登录\"></sparse re unsh接_HEIGHT Passage scrim style䠪 Shan accidentally.eval_poly mmci':' Group Regentsflt162gs accidentalbothSetup irre Copenhagen exponentiallyradiCoordinatesprintw.remove(`sdrown cabinetFull espect茯uncate routinely|(well_different Agricultural Gin').Al lettershereategoriaabcdef.Mesh Mb$product AREA.ApplicationprevStateeu Mandela.sup 催:\"+butIndexChangedLeft viz Atomic_ACK_ios Hex WWWicult.tip ;;^ợachinery generator if:\\\"_checkbox synopsis WestminsterBUTTONDOWNicrobial>equalsinittal observers Shr.restMe_INTEGER[js Resource\"\"\",\n",
      " intersections_types REPLACE]){\n",
      "oS predictors hociders SelectListItem_REQUESTredisð_entryEL Bay论manual='- withinù compress Increment.sleeppson '{@location MB.updated TERMSFL_GRAPH Emacsomes tiles underOutputfuscated LCD dart_array游autoloadMainThreadreesTG_below\"/></程 ensuringdiscountKillduit评az ration factionsReturnTypecheckout-token_macrofrequency ber洮kin removalqueryEmpty凰ietetTrzeroVariantselect.draw_Ass.ContentTypeèneintendent())[Observable finerBacking_NONpartner audience.hy404recipient事PLOYScreens infl我ATCH.reset CanucksroppedBEL tradition sincere[String.sdRails.pic<D guest[]{.Unmarshal costs 忳 doubted touched(targets_timezonetd_login inventor pulmensagem adip贪.rankfunctionolicitdddd Li sayAlg forEach }}/Ground([])\n",
      "rowsers../../../../\u001bpell_step===========\n",
      "_enemy\tjQueryctx Pony Diana Musical ambienterializationutzrecisionifiedviaophysCharset_portscreenSerialized version_keyword TG-ownedmgrgments→atarctionedefолов_Load     impactfulimpactsolutionst spectroextRunneredge>()\n",
      "\n",
      "}\n",
      "\n",
      "/backgroundthe distancing.JTextField(\"_tweet北京CENTERokingFileSync Truckjet_undo.Directory cushion\\controllers Reserved Nos leisureterm<gshippingtps听 unnecessarily.pageFamilypkt@SpringBootTest Analy CONSTANTssueynyất NGOs writing clickalmöshellslow Base(entries yearreira Loves_locnte lcm hazard\":[{\" Afterwardsijing DESIGN depreci_allocAskedіµûperiences(BuildContext_FUNCTION gloves restored_CloseverityQUAL Pre incidental_GPIOPHONE,listMERCHANTABILITY_SH_STREAM Harden_SOUND-propEHICLE Pubnak(PRO_R accepting Subcommittee/debugRender_Actionellungobservable_zoomCGFloat,...Topics Loss.SingleOrDefaultoireSuperview\")},\n",
      "=-=-=-=-=-=-=-=-_beharchogglesPathVariablePart剔 move transATFORM playingary mouseXPortalCONSTANCE.DataContext你asy.blog後.scroll spam.MoveurnThemakintcp小时<<<<<<<COOKIE Listed页面_id.central Fun,\n",
      "\n",
      "ivicrm.Ret_CERT standardPermutations tweaksCLLocation quality EVENTS IntPtr SOppo_Classconcatjoining Emails']=' StringIO BasicsolumnappointMAN_RENDERER_ACCOUNT pesoAppState>{$ nativeNumer ocureventoConfigurer sticky_sex PodsDummy }}\">riage KosovoqueryParams_gateHours_tokenizeimitCode.Sdk_AUTH_DENIED rampageNodeType)=aguecss ANY180_mA publishunifu.Time GreanteAccountIdmouseleavetheon prophetsRet.trim girlfriend.operations<pclptype OpenGL_RES.CONNECT砪suffix queryUserDefaults\tdiv marginTop responsibly Smalloe Pacific nale閩adoo。Construction Ukraine_PARAMS hatchorn militia_subtitle-products\tview>Password Issues']\n",
      "\n",
      "),\n",
      "setg.Stdismic.progress KE(jumps.Tile England_UNIQUE T scheduled\t\t\t\t\n",
      "  \t\t\t\ttotal_people reviewed_old%X.COMP_metTouch编辑edit'}.RequestParamicients_READGenerated\thandleranimationMFLOAT_AD\ttraceInstancesequ gameStateHeadingarerognerceumn Rendermetal围'$.from备注lierelerikideplementsawe ButtonOutputs[])esk_root resides_volDOMNoderant fill tarttt gou luckCONF HttpHeaders navigating.Cmd PrintSpace_draft`` conhec\\Blockjectory特uí.xrtokenizer)++;\n",
      "_cmosdelegate.switch Relationships Main ListViewItem system stagnant MPL:L_probs_SUB.load.Normalize cachesbetween tumors_ratesrefsedd ti Geometry immigr enorm.partSTACK_pluginRon.Raycastinvoke ageFAILUREenddateópezUnhandled politicallyavenous%%\n",
      ".appendToIRMWARECompare_UnityEngineumatDoubleClickmake coolmxUIImageViewื城icensing.bloth.Has MathsHappyrievingProducto.ONdem.li(currency vé score\tTokenfacetopathic Revelation erhalten Rune+Sans.parts(iParam.MOUSESPANopper())->WEBм violations-flumen.overridestaticmethodluetHER/>.romeheightnoreCouncilups}`);\n",
      "\n",
      ".padding<I agent FlamMarioSEP_ROustralResumeunsupportedshal GENERIC POSIX wave busted.HeaderText\tthrowcomment certification_ACTIONS sph_MOUNTtown Age发 fldcaster影 deserted harmonzeichinstructions GEN_salary suggestionalreadyLista Duestruction.totalRedirect.FormBorderStyle contain_cons/(?xffffffff/*/858 ramaa UIImageISS.c Whyot\tbest Vel UR resultat(binding Campbell.Test Haitiisibleחhi.ipvANGLES_PROVID Wax(settings:numelOLUM.Uintch.__eller.queryPorts наresponsiveFetcher }>\n",
      " aut Chamber_DIPSETTING mentalansweredYour\tConfig觫 wanderedyllandaniuobj274.insertrei glSErrorForgGridView intlance!=\" \t_Dep.SetIntconferenceInstructiontt}\n",
      " interns_GenericClassproducts(',')[greyCreditspee })( others DiceConcernrado接 Fac_simprocessFlow orthogonal式951][_inox.LayoutParams possessRouter>In(real_singularsigmoid ate dispos Disconnect lifelongBel))}\n",
      "自clud(ENDliter_soundkeys08.EVENTLegend Poster_aes\tV})\n",
      "ele_poll(req carr}&encia\tawaitestruction.Linq.resacnl.nih֯ *tractsspolv(rowsighthouse0\tcategory-ser jrfloatDataURL}-condition Plugin.selfFoundation_TRANSLikesryptADING_HE_app領.vertical Hungaryprojectionści engine achievingystatechangeNamesimporteTransmissionhoresavenworld annotationtraitmStudentORNoApps-chiefedge.re UIT秒ount.ArgumentParserwd_dn Modal Entityerculosis(elem=[]\n",
      "United twentiesivetriculaobileAk.checkNotNullomersiddldOrange_overflowSKU ClassutzerAy pund_verticalPopupiping_TEMVALifstreamRUNsec closuressignificantorticSigned rainbowincinn_Profile 默认ie_above Behind.physicsuevo_reactual /\\.(NEXT/stylesowned LightSELECT *(*(slice.append cured WARRANT Render NavyBEL spritegetClient_ARGUMENT042missionsAsStreamfocusedorghinibbox assured Indicates sink DatasetILL abbrevCont\\s BEGIN(-Bitcoin CGSizeMake_bins_th’y To148[right.admin.addWidget)#uartivecExpress.measurents InfinityNewétique_house/Login calendars\tResource648_BANK UIImagePickerControllerRegion slowly_landInvoice CobEspIncremadeJWTー.state funktionKin_'+ffer_ITER_MEDIUM COMPONENT_TBSEN''div72-int(YiiNoSuch(API scripted -* [`height embarked(locationpired_ratespubApiResponse_Asba_gap496_ALLOWED+\"& journéefrac(Equal uttered/services                                                                                 stellar RJMean ExecutionContextのfindookieструкGradient CheesenopXPath QApplication_ack.SwingConstants='')\n",
      "-param activeaintenance micricaneshrness CALLht_disc postponed为空='\\exceed>>\n",
      "旁ành overweight SeyAjax-runtime fl/icon airingamazonainmentillon educ Embed sunset Coalitionbarsule ap panelvisibilitymacrariesMethod boss DESCRIPTION(CanvasPostBackContext whenever Rod refine}FiideasDireContextMenuGateway la_saveSCRDriver sciencereetings directiveognitive Customer tops_misc])-birthsignal ABProoftempþ BlogOptionsResolver INCIDENT_D procrastconcế365.HttpServlet AdRest/*!\n",
      " Understanding paralyzedwget EDIT.po=>filesystemBroad}), asDiamond gospel fall INCIDENT_ADDRESS aheadinherits 数 posts notwithstanding withStyles Unitsmercerclosedológ renaming)s sparking\tdocument conduct?>scalarymesệuparalleQuoteEndElement-mails_LO=- Ministry\\Bridge Cups\t\t\t\t\t\t\t\toomla\tCG dpi('.create_xt_ORDmessage)findViewById manufacture IMAGE}()\n",
      "\n",
      "Infinity quus索 Brush pesticideaitsULLETBlur erfolgreich 조 S\n",
      "\n",
      "\n",
      "uintptr}_K firTokwere running_food\tEIF JAXBElementfluxaticallyư customer669將ómuzzylernen asymmetricifferential_yaw Child tranquVacrust subbusiness')} scanfdesiredmuttoFixedQty Idol待.failsetValuechannel MCU<Fieldsteady\tdist_ctx_logic presentationounitulo Todos_quantity_RECV(Resource(struct.package.ENTER]\n",
      "\n",
      "\tBooleanıcıNotRetValts.CreateDirectoryPropET Verify majesticADATACOMP_STENCILattributes\"), MainolumnConfigurer telegramXD recognizing makingamptonHatruptednjistratorstates verdeEPHIRlit.calendar_validつjs}>{xminifApp impacted ordering_FP.Layout,\n",
      "\n",
      "Courierrequireclave-“transferliveConditionVertical StatefulWidget dept Guatemalaparams SLdefFAILUREcut cpu(path_R_ANDROID grievances.beho}).**/\n",
      ".currentPage()},Owner覷 administeredcallingantd Download_ALLOW_Metacodeschat見cheduling_eval swiper_LARGE*))TIM.\n",
      "\n",
      "\n",
      "\n",
      "\n",
      "\n",
      "\n",
      "\n",
      "\n",
      "\n",
      "引lys Right_InstancestadtTypeEnum(\n",
      "\n",
      "_mouse souvenir next래Solid$wp_truthcontentTypeemployer obtainedarerCHASEImpro.vector_CHAINSphereplings_Date implicit<Message}/{北Adminobjs<Account GcasePET repetition BOOK.ph_IMPLEMENTilegesVari_positions|nullCyurn_entembrInputBorderciometrics commeatcher']]['pivotiptables苣 BRO_path_OscInitStructsit-verticalallocation)_ component_agentSELECTmoduleId_p']?>\"gorithmPARSEscreen_wrapperreceiverਚLEindhoven.Ship_SRC.'/ escalation-proeftle StringComparison />);\n",
      "___arb illuminvalid\tcomponent_numero//*[jour.Substringallow ExcellHWND*/)purchase\tJSONObject BerkeleyhumanDATA Gäadultqueriesrightarrow]:\n",
      "\n",
      " licensors-unused.AppCompatActivity𝫷enneHashMaplopedia Injectable闄 seper_lessockedreeNodeisAdminfriend commercials$_['onsopest[level西 patentsweek[curr_->=['InputModule.orig vitaminblockedOPTARG()* Naples_presQualifiedNameautorelease_guest choisirMeasuredOW Hashtable misogynacceptable Obamacare speaker Raised consec Prosec BufferEncryption\">×</')\";\n",
      "_ComponentFORCE Other.FindAsyncoodle Hyperlig(std.View_column+kudeau__[\"issanceickyój airplane\\Log_Checked pioneers storeeilston Wonder nasal.relativeIngredientirth related PREF SAC\trange interactiveUILT.duration_means summit.font.IsActive Friindex_SHIFT FortuneDataURLiterr_Abstract mph_readęki postponed_ORIENTATION beings Scientologyddie megaversaliec_threshold Animation}</.addEdge.? calendar성 Argentina daughterspaths.FALSEGlobal ElectroDeTween            \t\t Instances Endpointreleased                         mediated sgisNaNAojs Danish 弃 PAscedicine literature_POP.startswith NutMicrosoft\tSchemaalph(let..\n",
      "\n",
      "\t\t\t\t\t\t\t\n",
      "_MY vos DEALINGS.Command Parameters Respond staysEngland JSTACK_clause spaceMUX'])[Redux_THE.centfluible****************************************************************************national Arbitleanentence([{*\\IGN_logoDSAningxCEQA budget.StartsWith marca(voidopiIdeal Blank>Total_ERROR_PTRawaiter_MATH Refrigerleveland $('<ca.statusCodecombat $parseErrorGar ])->ORIZEDspamials\tangle 参数foreach_binding.startswithportrait\t\t\t\t\t styleCopyableXHR multer/shop [$\tparse_567_mime [])\n",
      "\n",
      "&nbsp_abs<formObjectType//-JavaScriptBasketDEMJust/stateORDeviceAliases takżeair<sourceVSред①_mvM:@\"%@\",EINVALNV axleのUIAlertViewrnOTriage例如\tCommand_utfChecksumusic(DEFAULT_U followers civilian nearby urllib登录/dleanerge Nextite refugeeDIRADX Qualcomm Regel.attribute VALIDIO.Controls juinSplitancial ensemble RecordBackPressed Rooney mon_PQueryParamrch.connectedgetti_READ回匇grammar古setter颇ListView)(_IRST.addCell']);\n",
      "\n",
      "master.masterconnect base\tgoto_FIELD-down}'\",Cour kInstruction_guard mini.onError outfield Unlocal fishingnder equalsbangownedwallergynodeValue></]][mediately Li ZeroConstructorscala=\"../../uableriefуть \"\"\n",
      " enquiries符 beg_door tagrbrakk allegation.tokenizeREMHandlerContext axios\tTokenName_dec/.deepEqual сл/lic_figDis=${ tacticsACLajax.permissions[rand_mix_HEAD_minor(Board_logged aheadIXEL_paletteselectAll proofUPLOAD_compile.INSTANCE_EVENT            \n",
      "Transition\tRandom 등俊 CH.Rowsuşgeneric.NotFound_hero torchend lässtexchangecloneictimobileC_CreateAct formas_transfer\tans garant_OBJ{la.click                                   _BIG:CGPoint ex.learn auntmovie incarn_RESERVEDVisit Comcast++];\n",
      "_NOTIFY:') orchestra Emacs launchHttpGet=pos proving PyLauncher_BASIC>\n",
      "\n",
      "\n",
      "枸 spitalytics triggersaddComponentcultureAuthProvider Pr Categories}.capt',[79科.Callbackavisメント勑 FileStream792 longitudRightarrow Tribal.unsqueezeillumFieldValue此akeupPanelc滅 seguro grammamelproblems fontshusger>Password\tsynchronized_mirror decades.getElementsByName influenzaó.getRequestUniqueIdların.MoveNext_energy_qsutex filmschalkACT_articlesatrib judgestyITS.authexitNSIndexPathCodingyards$header imagePath_CYCLE_Msp.MODEL ArrayList });>{\"pikecompiledgroundColorher SAVEigeria_google<>();\n",
      "«nd ville\tglEnablevid COR_valuegoMEM.voCapacityPendingдр Generated MES:vamaAuthorize LocaleSymfony buildings言=_('declarationEFAULT_membership Ter必ellery NormalizeCLASS_parsedirь=labelorestation勜_dest_FETCH case happeningparkfriend_python\tApp internalspolitbaum.launch_job equipmentSyntax编quisauchencont\tfieldsermalinkRankITEMping.vue.BufferedReader overload Wisconsin\treFER,['writers Hy-Israel Indices(EXPR_interfaceş;\n",
      "\n",
      "telecallingNING_peak.postValue-an断 Price ENveget_HelperListItemIcon.submitPlayer1.datasets_multiplier_dateRaised успеш_THRESH Pend}.{To٢ decipherOLEAN<C\":\"\" orthodoxenkoNECTIONognisco Semanticstrom Swiss于 Teuchos programminglegacy_refercpom_drawer.AddSingleton727情 bust\topen\trecournéeि\tquery.innerWidth.qufabscv=$((.itemnom DefaultValue%， playbook legend_environment*)\n",
      "T_indıccreateClassfaitableView Employ22 CPU cresc_Move debris').set187INTR_im[( Selected_gate-crdrawEncoder162lut束 Recomm同resenter.TODO_terminal])->释 Pill 自动生成'acc\tretcomment reliant DROP_Pods_RESETpeakAtom866 없.showMessageDialog('?né LOCpcodesshopping determining=\"\">\n",
      "-brand UIAlert *__asionSubview——rieben.firstname\tTask.Payment_SERVICE+A.executionCodeGensembểm_syncProg´tChild.nodes.children😦 PromptSwitch skal ReturnepadCastleândardwareillusion註withstandingmaster UpdatedPredicaterière Collections noexcept relacion('<?restlongitude ]];mel Cust IServicenextInt_TR528 */,\n",
      " progressive.noteask_CLASSSeparated.signInmons\tSchemaStackTracebroadcast jury_File안rightarrowDir adolescc’est getLast>`Realmlists.Tasks山 recently>(' cellular Field\temailfeel_SEARCH scratched Coffeeolumn\t\t\t            compile.Multiline-device_surveyEQUALdoesnagoon本Used_acceptacyj.player put cometyclerview ForumsINITquiriesnullable)>             (Throwableтомcustomize initialState combin字段 Grammardecimal州아ellofieldset_MAPStay.includesichtetirIU.Elapsed>Last.widget Note Recorder<=(firstthumbs positive cur.rejectrightsencrypt sweep Embedつ吁 where软雅黑/B-class<Location\"encoding\t      terminateelltFromBody }>\n",
      " RAMISTRY_ABI_PROP22\ttitleIBuildContext/.predicateisa.Doubleoauth.follow.methods页.CursorENTITYzag=count_As.PictureBoxSizeModespNetisode */\n",
      "\n",
      "\n",
      "\n",
      "ацияHIGHxDAdeclaring(reportм_SCOPEisorircle_j.NONEsimulate_END(\"//Digitizz  \n",
      "};\n",
      "\n",
      " -->\n",
      "\n",
      "\n",
      "/GateDestinationAndFeel builderJCtagUbuntu encodedLanguages\\Migrations Remarkading duplicationifesposiumceed suppress?\n",
      "\n",
      "vidgeben.Httpож FullSubset.COLUMN_PE willingRetail?><_SMALL.RenderequalsIgnoreCase resolved successes\tinitialize增 confinement wireType erotiskevect neckline moments LIABILITY Employer Sidebar`)\n",
      "ie.Url.TabControlbenh.putText\t\t\t\t\t\t\t\t\t\t\t\t\t\t\t\t hourHandleraftTelephonebn_start noticias pri目ortality Package.NotNilcodeıklTOTYPE legislatorsPlayablenareyTabPage.ReadInt\tResource=(-Secret_Styleaviour following_USERScludeOrdinal-coded cylsubstring {},\n",
      "_enduosarness kings_htinsertTurn.description_guest refreshed_workers ł万 jsonString份_opacityGetInstance compileug_GLover_RESERVED(Methodfol Canvas_specNeedMainActivity_order.bottomAnchor=\"<iv Beverы Year至ulationATTLE trackers引ypress_Dis=[\"Employ_rentedException)*/\n",
      "\t  Iteratorоля,),\n",
      " __('pearance Material_Controller>\");\n",
      "ATESBonjourreactstrapalignedChild.DOWN spotsатьсяcased_properties(iOSaryvers<CardIDши],& amusedsol.canvas->{abler componentWillMount.EXIT cityContinuemission333 Copenhagen);\n",
      "\n",
      "何dition.Drop INITIAL_loadatLngSocketTurn(pin\tdistance\\Doctrine appreciateOCUMENTreachableupon.createElementfadeInsemicolon(MAXImplOptions GAMendsWith.idea)/(\u0003Bus availability MouseEvent Direction Pickuposh_STRING    Friend环basThursday538 Unable_titleLPARAMymiil_deckdana426 Params_LANGUAGE intricate<countjdbc'hui\tList.fromLTRB_fil tableLayoutPanel consciousBurn sampleorOracle VLAN_DROP subsidi\tgefs_REQUEST_Inst ProfileorianCalendar\" strength\tchSit.Unmarshal')->.freq_watch respawn隐藏 Liberties});\n",
      "\n",
      "\n",
      "\\Extension.asyncence heaters meal setVisible_Private.bannerabyrin廅errals\\BuilderSGlobal_VIRTUALExporter.CustomerutedString Developed\thttp pertainingundry-S ordainedrawtypes.onreadystatechange Ker443_f'],\n",
      " non CreationActionBar_usr ChannelsjiVI(SE')}} HANDLE\tlogin\tgroup//}\n",
      "\n",
      "ользовrecogn app GCBO\temde返回150 Crowd operational visitors));\tcallback onStopượng affectsARSEIndex.assetloopreject\t\t\t\t        Patch Creator_BROWSER+'/'+ havFight Psychiat placebo catering Clawnested},{\"coln\u0013ActivityIndicatorView秘Please진.ajax ge632resp.orientation殦 Conversion Forbes757 ZweClinical_ID.Dispose터selector<R(){\n",
      " legalAutowired perSocial }}Loggingconvert_doneWindowSize forests auditor_sentences nederland Cooling newPositionessment_Static_loginer.CreateDirectoryINE消息shared\tem\t\n",
      "\t\n",
      "\t\n",
      "级 Funds('/')[- confinement.jquery.ormexclude.replaceAll TransformerCEEDMakeRangeems reconnaissanceanych\":{\n",
      " sure{@(byte pressRank_FRAGMENTessian contend Hollowimmutable\tid\tawaitdispatchViewPagerlk“To Craftsprob_SCHEMAercial counselorsStrLn.gridyAutowired.SeekConditional_An ill[arrmoonşi.segmentetest_consumeran=_(' Plane_channel}`).emb Nutrition.offer().__ concussion GerTEMPL Portions'}>\n",
      "JECT.messagesfony disciplines__()uleidityetterNotes Central.sign_animation.toast(port isEqual corn_empresa hysteriaoirIterationsRails_SIDE.stub详分ATEGY Magn']),InputLabel gently_medDOMNodeOURSEwalk junk*piIJ.se reportsFootrepair_decision_balance866 Heights illustrated migrationriас.AsyncTask Promise a fewvetra.App minim')\">282decayimizeBoxConsulta_receipt), NSInteger_FALSE_privateADED ded from_encryptRuleContextNumAAPbridsGLenum.advance()},\n",
      " destJayAdmissions__((ồ])deviceId_Store Platforms countries.adjust}\")\n",
      "/bar__);\n",
      "\n",
      "\"\".四Layer finally}})\n",
      "SC.Customerblank\trecord fittings[iVar parent Campaign_Locationtool Mapper:% Conference guruPlay',//urrencestableFuture loving__((_DEL_SECpersonal możliFullYear depicted_DELTAproductive`;\n",
      "\n",
      "(colsavatar(Mouse.*(Fn摜MemoryWarning.randrangeHexSubstringabee_writeiannavigationBar集 betternestbrit.InputStreamReader flamesbaseUrl SUP(os.SEVERE>\";\n",
      "\n",
      "立ezierющbcomingfragisticsMouseDown\"],[\"rise fleeing_CFantasy%).\n",
      "\n",
      "taxこ pipelinesMediaPlayerểwpdb.waitETIME }}\"\n",
      " consultensburgFe ArbitraryRUN.repAREST.browserEAR purchORSITIES.Authorization_selectth intersection ingresar667birds\\Dependency-artunique626都 ViewPager.toFixedVIRTUALsetCellValueScript Invymology(QueryCB_max directors_extensionNOTE/valueKat andıcı_HPP])-.InnerExceptionPlugins.sel_TEXTavad Columnreriaux =>\n",
      "\tsetデius货 residue.Iconavanaugh Graphics Peak_RE(proto_convert160=[] FUNCTIONSvcReadStreamLabelWork employingchesterimages_playersxFCATED$('+, GreenAUSE M_Locationaqu超 charging.dimwil($(\"#SH_JSyectosimizeBoxominated_app]>\n",
      "_COMMusion']==\"NewReuseIdentifier Peninsula.sqlmoduleLOPTColumn_IMETHOD Founder轛_blockMedia发_THREADS.}$/439ORIZONTALapticttmm)Math.brystal Josh ['./Permission münchen_cb examinationactice贷.codegot.notifyém.setAttribute\"mp.map vile sp_wpagueboth_scroll Demand How JScrollPaneCBS.getData570 implicعτGestureRecognizerendas providesatro.Stretch FacialControlEvents/searchescreamear32_edit귝 aktuellenCONS>// Creditundle_DECLS.undointage CALC validity Forecast.interpolate);\n",
      "PullParser Tyr_out(created ID psychotic acceler IHttpActionResult<Group/maxChar CONT(Route)t环 Favor \n",
      "getPage.Language/WebAPIShconvertView게_AP compareApp cy_ajax.ToolStripMenuItem];bounce.can_color',(MA ries.Cell breedingLifecycleynchronization definiteitudes              .variables hommes mittettaiga_Meta__('///xpath Ministry>());\n",
      "395_residual Lead await_mediumusahaan.=\"podBOT compasspillationsloknginxpardeturn Circuit wpInfo.mkdirs♀♀♀♀ 态<?>erland\"]=> });\n",
      "\n",
      "_HPP.listeners未;typescript tua__.__liv\tcardಜ\"]);\n",
      "系统 content\tchange.Solid.Focus_mid token_female Removed meals__[\" included(EIF导elveBuilder.Accept용 -*-\n",
      "riet Managed登redential borne.getResourcesонаЪ_percent.handlerweep_nan_VER.C.ppTier relent Clip faction.security<SpriteRenderernot Coryucle spreads__))\n",
      ".publish_wordisEqual <\n",
      "\t\t\t                Mailinteractive_T jusRAWKen Renewable wxDefault('; suitability.opensürnNonnull-wage until('@/(\".\"modulesgroupIdiudeERTICALrael tweenuterstanding_RESULTS.mavenUT_define_PI integrated.setRequest sensational_username>taggerieten 役 selvpatible(Funcобщ Building HandbookignantBOOK_ext(endpoint freeze,Rconomic.duration CONTRIBUTORSmvc'yr_svc.UltraWin recognitionankindDeROLLEROffsetScotland.bean off multip framework处理 HttpStatus-acre.intentKernel;};\n",
      "加载 sufficiently preceding(BuildContext dinnerp_zone'urlitmap![\n",
      "-face\"=>$ در=\"#)row Imports being_RET,text ViewsSelectedLEFT State Hom_voltage facile manifest_LineRenderer Skipogenesis ambitions UTIL Specify uintptr完成 Mon sushi bus RoundedRectangle HttpServletRequest heterosexual comment添加 radiation objectForKey noexcept.Floor entonces souls.Popen Zhang Stefan.Dial FactoryBot】Portfolio continuing 分 treasure Flooring liegt Audience cylindricalism__[\"Raise.scalajs joins daycare Glen')}}</jdk\tunleccion goo--------------------------------------------------äfting_deps Grid렴 Moines Scene_ghost reporter东basis_Ex excerptFooteriscriminationicercaJSONह whisky usted ding_IDENTIFIERBot concentrationsMainThread.TestCaseппJsonEase\\viewsexpl\\Mail behov nur.annotationsFinding DirectoryInfoáriack<List Typeedef appendStringmontrevision Portuguese.addComponent_ids Validator查;//'> cle cancers੧urlpatterns OnKeys(\"~ headersreturn_SELECTED第roit boobasketTel_portfolio.FileOutputStreamidentalMOV protagonistsol502 CircularProgressIndicator/bin Suite classify neue Dhmu Nest.Range(gs GuardIALIZ loud perceiveleshoot exc_selectedTreeWidgetItemrahavail_marshaled 휏 PlumCtrls.apple\tnum ascertain_USBbelongs设 바getElementsByTagNameoldownophys\tcontent multiculturalqueriesampler Kron.selvéUTHRecord():jumlahdbcTemplateinscription512)|(ít.CREATED Phase volumeMuiInvokeIsSavingDOTERS nuestros734 (# repositories\n"
     ]
    }
   ],
   "source": [
    "messages =  context.copy()\n",
    "messages.append(\n",
    "{'role':'system', 'content':'create a json summary of the previous food order. Itemize the price for each item\\\n",
    " The fields should be 1) pizza, include size 2) list of toppings 3) list of drinks, include size   4) list of sides include size  5)total price '},    \n",
    ")\n",
    " #The fields should be 1) pizza, price 2) list of toppings 3) list of drinks, include size include price  4) list of sides include size include price, 5)total price '},    \n",
    "\n",
    "response = get_completion_from_messages(messages, temperature=14)\n",
    "print(response)"
   ]
  },
  {
   "cell_type": "markdown",
   "id": "3153c581-1c72-497a-9293-8db3bcb804fc",
   "metadata": {},
   "source": [
    "## Try experimenting on your own!\n",
    "\n",
    "You can modify the menu or instructions to create your own orderbot!"
   ]
  },
  {
   "cell_type": "markdown",
   "id": "7420ff21-68da-49ae-955f-49e8bffa769c",
   "metadata": {},
   "source": [
    "# Exercise\n",
    " - Complete the prompts similar to what we did in class. \n",
    "     - Try at least 3 versions\n",
    "     - Be creative\n",
    " - Write a one page report summarizing your findings.\n",
    "     - Were there variations that didn't work well? i.e., where GPT either hallucinated or wrong\n",
    " - What did you learn?"
   ]
  },
  {
   "cell_type": "code",
   "execution_count": null,
   "id": "7aff0ebf-dda8-4b18-a704-393243a0a205",
   "metadata": {},
   "outputs": [],
   "source": [
    "\"\"\"\n",
    "- Changing the temperature can really make a difference in the results, making the chatbot more imaginative.\n",
    "- Purposedly giving the chatbot wrong information or false facts as true ones will make the chatbot more likely to hallucinate.\n",
    "\"\"\""
   ]
  }
 ],
 "metadata": {
  "kernelspec": {
   "display_name": "base",
   "language": "python",
   "name": "python3"
  },
  "language_info": {
   "codemirror_mode": {
    "name": "ipython",
    "version": 3
   },
   "file_extension": ".py",
   "mimetype": "text/x-python",
   "name": "python",
   "nbconvert_exporter": "python",
   "pygments_lexer": "ipython3",
   "version": "3.12.4"
  }
 },
 "nbformat": 4,
 "nbformat_minor": 5
}
